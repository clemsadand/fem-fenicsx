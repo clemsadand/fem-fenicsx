{
 "cells": [
  {
   "cell_type": "markdown",
   "metadata": {},
   "source": [
    "# Solving the Heat Equation with FEniCSx\n",
    "\n",
    "## Introduction\n",
    "\n",
    "The model problem for the time-dependent partial differential equation (PDE) reads:\n",
    "$$\n",
    "\\begin{align}\n",
    "    \\frac{\\partial u}{\\partial t} &= \\nabla^2 u + f && \\text{in } \\Omega \\times (0, T], \\\\\n",
    "    u &= u_D && \\text{on } \\partial\\Omega \\times (0, T], \\\\\n",
    "    u &= u_0 && \\text{at } t = 0.\n",
    "\\end{align}\n",
    "$$\n",
    "\n",
    "Here, $ u $ varies with space and time, e.g. $ u = u(x, y, t) $ if the spatial domain $ \\Omega $ is two-dimensional. The source function $ f $ and the boundary values $ u_D $ may also vary with space and time. The initial condition $ u_0 $ is a function of space only.\n",
    "\n",
    "For this problem, we will use the Dirichlet boundary condition $ u_D = 0 $.\n",
    "\n",
    "Here, on the domain $ \\Omega = (0, 2) \\times (0, 2) $, we consider:\n",
    "$$\n",
    "\\begin{aligned}\n",
    "u_0(x) &= x_1 x_2 (x_1 -2)(x_2 -2), \\\\\n",
    "f(x, t) &= -e^{-t}\\left[ x_1 x_2 (x_1 -2)(x_2 -2) + 2 x_1 (x_1 -2) + 2 x_2 (x_2 -2) \\right].\n",
    "\\end{aligned}\n",
    "$$\n",
    "\n",
    "## Weak Formulation\n",
    "\n",
    "To derive the weak formulation, we multiply the PDE by a test function $ v \\in V $ (where $ V $ is a suitable function space) and integrate over the domain $ \\Omega $:\n",
    "$$\n",
    "\\begin{aligned}\n",
    "\\int_{\\Omega} \\frac{\\partial u}{\\partial t} v \\, \\mathrm{d}x &= \\int_{\\Omega} \\nabla^2 u v \\, \\mathrm{d}x + \\int_{\\Omega} f v \\, \\mathrm{d}x.\n",
    "\\end{aligned}\n",
    "$$\n",
    "\n",
    "Applying integration by parts to the second term on the right-hand side and assuming $ u = u_D = 0 $ on $ \\partial \\Omega $, we obtain:\n",
    "$$\n",
    "\\begin{aligned}\n",
    "\\int_{\\Omega} \\frac{\\partial u}{\\partial t} v \\, \\mathrm{d}x + \\int_{\\Omega} \\nabla u \\cdot \\nabla v \\, \\mathrm{d}x &= \\int_{\\Omega} f v \\, \\mathrm{d}x.\n",
    "\\end{aligned}\n",
    "$$\n",
    "\n",
    "## Time Discretization: Euler Backward Scheme\n",
    "\n",
    "We discretize in time using the Euler backward scheme. Let $ u^n $ be the approximation of $ u $ at time $ t_n $. The time derivative can be approximated as:\n",
    "$$\n",
    "\\frac{\\partial u}{\\partial t} \\approx \\frac{u^{n+1} - u^n}{\\Delta t},\n",
    "$$\n",
    "where $ \\Delta t $ is the time step size. Substituting this into the weak formulation gives:\n",
    "$$\n",
    "\\begin{aligned}\n",
    "\\int_{\\Omega} \\frac{u^{n+1} - u^n}{\\Delta t} v \\, \\mathrm{d}x + \\int_{\\Omega} \\nabla u^{n+1} \\cdot \\nabla v \\, \\mathrm{d}x &= \\int_{\\Omega} f^{n+1} v \\, \\mathrm{d}x.\n",
    "\\end{aligned}\n",
    "$$\n",
    "\n",
    "Rearranging, we get the fully discrete form:\n",
    "$$\n",
    "\\begin{aligned}\n",
    "\\int_{\\Omega} u^{n+1} v \\, \\mathrm{d}x + \\Delta t \\int_{\\Omega} \\nabla u^{n+1} \\cdot \\nabla v \\, \\mathrm{d}x &= \\int_{\\Omega} u^n v \\, \\mathrm{d}x + \\Delta t \\int_{\\Omega} f^{n+1} v \\, \\mathrm{d}x.\n",
    "\\end{aligned}\n",
    "$$\n",
    "\n",
    "## Spatial Discretization: Crouzeix-Raviart Finite Element Method\n",
    "\n",
    "For spatial discretization, we use the Crouzeix-Raviart finite element method, which is a nonconforming finite element method suitable for solving the heat equation. The Crouzeix-Raviart element is defined on triangles and has degrees of freedom at the midpoints of edges. \n",
    "\n",
    "Let $V_h$ be the finite element space consisting of Crouzeix-Raviart elements. For the sack of simplicity,  we consider the same $V_h$ over time. The discrete solution $ u_h \\in V_h $ satisfies:\n",
    "$$\n",
    "\\begin{aligned}\n",
    "\\int_{\\Omega} u_h^{n+1} v_h \\, \\mathrm{d}x + \\Delta t \\int_{\\Omega} \\nabla u_h^{n+1} \\cdot \\nabla v_h \\, \\mathrm{d}x &= \\int_{\\Omega} u_h^n v_h \\, \\mathrm{d}x + \\Delta t \\int_{\\Omega} f^{n+1} v_h \\, \\mathrm{d}x \\quad \\forall v_h \\in V_h.\n",
    "\\end{aligned}\n",
    "$$\n",
    "\n",
    "\n",
    "This completes the weak formulation and discretization of the dynamic heat equation using the Euler backward scheme in time and the Crouzeix-Raviart finite element method in space."
   ]
  },
  {
   "cell_type": "markdown",
   "metadata": {},
   "source": [
    "# Implementation"
   ]
  },
  {
   "cell_type": "code",
   "execution_count": 1,
   "metadata": {},
   "outputs": [],
   "source": [
    "import matplotlib as mpl\n",
    "import pyvista\n",
    "import ufl\n",
    "import numpy as np\n",
    "from ufl import SpatialCoordinate\n",
    "from dolfinx import cpp as _cpp\n",
    "\n",
    "from petsc4py import PETSc\n",
    "from mpi4py import MPI\n",
    "\n",
    "from dolfinx import fem, mesh, io, plot\n",
    "from dolfinx.fem.petsc import assemble_vector, assemble_matrix, create_vector, apply_lifting, set_bc"
   ]
  },
  {
   "cell_type": "code",
   "execution_count": 2,
   "metadata": {},
   "outputs": [],
   "source": [
    "# Create the mesh and define the function space\n",
    "\n",
    "nx, ny = 128, 128\n",
    "domain = mesh.create_rectangle(MPI.COMM_WORLD, [np.array([0,0]), np.array([2,2])],\n",
    "                               [nx, ny], mesh.CellType.triangle\n",
    "                               )\n",
    "\n",
    "V = fem.functionspace(domain, (\"CR\", 1))"
   ]
  },
  {
   "cell_type": "code",
   "execution_count": 3,
   "metadata": {},
   "outputs": [],
   "source": [
    "# Determine the dimension of the boundary facets (one less than the dimension of the domain)\n",
    "fdim = domain.topology.dim -2\n",
    "\n",
    "# Locate the boundary facets of the mesh\n",
    "# The lambda function selects all facets onassemble_matrix the boundary by returning 'True' for all points\n",
    "boundary_facets = mesh.locate_entities_boundary(\n",
    "    domain, fdim, lambda x: np.full(x.shape[1], True, dtype=bool)\n",
    ")\n",
    "\n",
    "# Create a Dirichlet boundary condition\n",
    "# Set the value to 0 on the located boundary facets for the function space 'V'\n",
    "bc = fem.dirichletbc(PETSc.ScalarType(0), fem.locate_dofs_topological(V, fdim, boundary_facets), V)\n"
   ]
  },
  {
   "cell_type": "code",
   "execution_count": 4,
   "metadata": {},
   "outputs": [],
   "source": [
    "# Define the time-dependent source term f(x, y, t)\n",
    "class TimeDependentSource:\n",
    "    def __init__(self, t=0):\n",
    "        self.t = t\n",
    "\n",
    "    def eval(self, x):\n",
    "        return -(x[0]*x[1]*(x[0]-2)*(x[1]-2)+2*x[0]*(x[0]-2)+2*x[1]*(x[1]-2)) * np.exp(-self.t)\n",
    "\n",
    "f_expr = TimeDependentSource()\n",
    "\n",
    "# Define the initial condition u(x, y, 0) \n",
    "def initial_condition(x):\n",
    "    return x[0]*x[1]*(x[0]-2)*(x[1]-2)#np.exp(-5 * (x[0]**2 + x[1]**2))\n",
    "\n",
    "u_n = fem.Function(V)\n",
    "u_n.name = \"u_n\"\n",
    "u_n.interpolate(initial_condition)"
   ]
  },
  {
   "cell_type": "code",
   "execution_count": 5,
   "metadata": {},
   "outputs": [],
   "source": [
    "# Define temporal parameters\n",
    "t = 0 #Start time\n",
    "T = 3.0#Final time\n",
    "num_steps= 200\n",
    "dt = T / num_steps"
   ]
  },
  {
   "cell_type": "code",
   "execution_count": 6,
   "metadata": {},
   "outputs": [],
   "source": [
    "# Define the trial and test functions\n",
    "u = ufl.TrialFunction(V)\n",
    "v = ufl.TestFunction(V)"
   ]
  },
  {
   "cell_type": "code",
   "execution_count": 7,
   "metadata": {},
   "outputs": [],
   "source": [
    "# Define the variational problem\n",
    "f = fem.Function(V)\n",
    "f.interpolate(f_expr.eval)\n",
    "\n",
    "a = u * v *ufl.dx + dt * ufl.dot(ufl.grad(u), ufl.grad(v)) * ufl.dx\n",
    "L = (u_n + dt * f) * v * ufl.dx"
   ]
  },
  {
   "cell_type": "code",
   "execution_count": 8,
   "metadata": {},
   "outputs": [],
   "source": [
    "# Assemble the linear system\n",
    "A = assemble_matrix(fem.form(a))\n",
    "A.assemble()\n",
    "b = create_vector(fem.form(L))"
   ]
  },
  {
   "cell_type": "code",
   "execution_count": 9,
   "metadata": {},
   "outputs": [],
   "source": [
    "# xdmf = io.XDMFFile(domain.comm, \"solution_CR.xdmf\", \"w\")\n",
    "# xdmf.write_mesh(domain)\n",
    "\n",
    "# Define solution variable, and interpolate initial solution for visualization in Paraview\n",
    "u_sol = fem.Function(V)\n",
    "u_sol.name = \"u_sol\"\n",
    "u_sol.interpolate(initial_condition)\n",
    "# xdmf.write_function(u_sol, t)"
   ]
  },
  {
   "cell_type": "code",
   "execution_count": 10,
   "metadata": {},
   "outputs": [],
   "source": [
    "# Get the topology of the mesh\n",
    "\n",
    "tdim = domain.topology.dim\n",
    "entities = range(domain.topology.index_map(tdim).size_local)\n",
    "dofmap = V.dofmap\n",
    "\n",
    "\n",
    "num_dofs_per_cell = V.dofmap.dof_layout.num_dofs\n",
    "cell_type = domain.topology.cell_type\n",
    "perm = np.argsort(_cpp.io.perm_vtk(cell_type, num_dofs_per_cell))\n",
    "cell_types = np.full(domain.topology.index_map(tdim).size_local, mesh.CellType.triangle, dtype=np.uint8)\n",
    "\n",
    "topology = np.zeros((len(entities), num_dofs_per_cell + 1), dtype=np.int32)\n",
    "topology[:, 0] = num_dofs_per_cell\n",
    "\n",
    "dofmap_ = dofmap.list\n",
    "#\n",
    "topology[:, 1:] = dofmap_[: len(entities), perm]\n",
    "#\n",
    "cells = topology.reshape(1, -1)[0]\n",
    "#\n",
    "geometry = V.tabulate_dof_coordinates()"
   ]
  },
  {
   "cell_type": "code",
   "execution_count": 11,
   "metadata": {},
   "outputs": [],
   "source": [
    "#Visualization with pyvista\n",
    "\n",
    "pyvista.start_xvfb()\n",
    "\n",
    "grid = pyvista.UnstructuredGrid(cells, cell_types, geometry)\n",
    "\n",
    "plotter = pyvista.Plotter()\n",
    "plotter.open_gif(\"u_sol.gif\", fps=15)\n",
    "\n",
    "grid.point_data[\"u_sol\"] = u_sol.x.array\n",
    "warped = grid.warp_by_scalar(\"u_sol\", factor=1)\n",
    "\n",
    "viridis = mpl.colormaps.get_cmap(\"viridis\").resampled(25)\n",
    "sargs = dict(title_font_size=25, label_font_size=20, fmt=\"%.2f\", color=\"black\",\n",
    "             position_x=0.1, position_y=0.8, width=0.8, height=0.1)\n",
    "\n",
    "# plotter.add_mesh(grid, color=\"red\", show_edges=True, edge_color=\"green\", opacity=0.5, label=\"Original Grid\")\n",
    "renderer = plotter.add_mesh(warped, show_edges=True, edge_color=\"blue\", lighting=False,\n",
    "                            cmap=viridis, scalar_bar_args=sargs,\n",
    "                            clim=[0, max(u_sol.x.array)])"
   ]
  },
  {
   "cell_type": "code",
   "execution_count": 12,
   "metadata": {},
   "outputs": [],
   "source": [
    "# Create the linear solver\n",
    "solver = PETSc.KSP().create(domain.comm)\n",
    "solver.setOperators(A)\n",
    "solver.setType(PETSc.KSP.Type.PREONLY)\n",
    "solver.getPC().setType(PETSc.PC.Type.LU)"
   ]
  },
  {
   "cell_type": "code",
   "execution_count": null,
   "metadata": {},
   "outputs": [],
   "source": [
    "while t < T:\n",
    "    t += dt\n",
    "    f_expr.t = t\n",
    "    f.interpolate(f_expr.eval)\n",
    "\n",
    "    with b.localForm() as loc_b:\n",
    "        loc_b.set(0)\n",
    "\n",
    "    assemble_vector(b, fem.form(L))\n",
    "    apply_lifting(b, [fem.form(a)], [[bc]])#, x0=[u_sol.vector]\n",
    "    b.ghostUpdate(addv=PETSc.InsertMode.ADD_VALUES, mode=PETSc.ScatterMode.REVERSE)\n",
    "    set_bc(b, [bc])\n",
    "\n",
    "    solver.solve(b, u_sol.vector)\n",
    "    u_sol.x.scatter_forward()\n",
    "\n",
    "    # Update the solution for the next time step\n",
    "    u_n.x.array[:] = u_sol.x.array[:]\n",
    "\n",
    "    # Optionally, save the solution or visualize it\n",
    "    # e.g., save to a file or plot using matplotlib\n",
    "    \n",
    "    # Write solution to file\n",
    "    # xdmf.write_function(u_sol, t)\n",
    "    # Update plot\n",
    "    new_warped = grid.warp_by_scalar(\"u_sol\", factor=1)\n",
    "    warped.points[:, :] = new_warped.points\n",
    "    warped.point_data[\"u_sol\"][:] = u_sol.x.array\n",
    "    plotter.write_frame()\n",
    "plotter.close()\n",
    "# xdmf.close()\n",
    "\n",
    "print(\"Simulation complete.\")"
   ]
  },
  {
   "cell_type": "markdown",
   "metadata": {},
   "source": [
    "<img src=\"./u_sol.gif\" alt=\"gif\" width=\"800px\">"
   ]
  },
  {
   "cell_type": "markdown",
   "metadata": {},
   "source": [
    "**References**\n",
    " - [Fenicsx tutorials](\\href{https://jsdokken.com/dolfinx-tutorial/})"
   ]
  },
  {
   "cell_type": "markdown",
   "metadata": {},
   "source": []
  }
 ],
 "metadata": {
  "kernelspec": {
   "display_name": "fenicsx-env",
   "language": "python",
   "name": "python3"
  },
  "language_info": {
   "codemirror_mode": {
    "name": "ipython",
    "version": 3
   },
   "file_extension": ".py",
   "mimetype": "text/x-python",
   "name": "python",
   "nbconvert_exporter": "python",
   "pygments_lexer": "ipython3",
   "version": "3.12.2"
  }
 },
 "nbformat": 4,
 "nbformat_minor": 2
}
